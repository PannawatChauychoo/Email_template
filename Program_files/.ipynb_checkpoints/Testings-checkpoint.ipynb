{
 "cells": [
  {
   "cell_type": "code",
   "execution_count": 57,
   "id": "4d0feb55-a8bc-4e4f-8afd-e02b502e9bc3",
   "metadata": {},
   "outputs": [],
   "source": [
    "import datetime as dt \n",
    "import random\n",
    "import time"
   ]
  },
  {
   "cell_type": "code",
   "execution_count": 108,
   "id": "bc861403-d31e-49f3-a1f7-afb91a8d6cbe",
   "metadata": {},
   "outputs": [
    {
     "name": "stdout",
     "output_type": "stream",
     "text": [
      "3\n",
      "yes\n",
      "Today is Thursday but we missed the ideal time. Let's schedule emails for next week on Monday\n"
     ]
    },
    {
     "data": {
      "text/plain": [
       "datetime.datetime(2024, 3, 11, 9, 47)"
      ]
     },
     "execution_count": 108,
     "metadata": {},
     "output_type": "execute_result"
    }
   ],
   "source": [
    "#Tuesday -> Thursday from 8-10am are go time\n",
    "\n",
    "def check_ideal_sendtime(prefer_weekdays = [1,2,3], prefer_hours = [8,9,10]):\n",
    "    \"\"\"\n",
    "    Finding the ideal time to send based on current time\n",
    "    \"\"\"\n",
    "    now = dt.datetime.now() #example: datetime.datetime(2024, 3, 6, 20, 56, 59, 727333)\n",
    "    go_days = prefer_weekdays\n",
    "    go_hours = [8,9,10]\n",
    "\n",
    "    year = now.year\n",
    "    weekday = now.weekday() #int (0-6) -> 0 = Monday, 6 = Sunday\n",
    "    hour = now.hour \n",
    "    date = now.day\n",
    "    month = now.month\n",
    "\n",
    "    random_hour = random.randint(8,10)\n",
    "    random_minute = random.randint(0, 59)\n",
    "\n",
    "    today_date_str = now.strftime(\"%A\") #weekday str\n",
    "    \n",
    "    if weekday in go_days:\n",
    "        print(\"yes\")\n",
    "        if hour in go_hours:\n",
    "            print(f\"Today is {today_date_str} and in prime_time! Let's send them!\")\n",
    "            scheduled_time = now\n",
    "        elif hour not in go_hours and weekday < max(go_days):\n",
    "            print(f\"Today is {today_date_str} but not in primetime! Let's send them tomorrow!\")\n",
    "            scheduled_time = dt.datetime(year, month, date + 1, random_hour, random_minute)\n",
    "        elif hour not in go_hours and weekday >= max(go_days):\n",
    "            wait_time = 6 - weekday + min(go_days) # Count the days to next Tuesday\n",
    "            scheduled_time = dt.datetime(year, month, date + wait_time, random_hour, random_minute)\n",
    "            scheduled_day = scheduled_time.strftime(\"%A\")\n",
    "            print(f\"Today is {today_date_str} but we missed the ideal time. Let's schedule emails for next week on {scheduled_day}\")        \n",
    "    elif weekday > max(go_days):\n",
    "        print(\"Too late\")\n",
    "        wait_time = 6 - weekday + min(go_days) # Count the days to next Tuesday\n",
    "        scheduled_time = dt.datetime(year, month, date + wait_time, random_hour, random_minute)\n",
    "        scheduled_day = schedule_time.strftime(\"%A\")\n",
    "        print(f\"Today is {today_date_str}. Let's schedule emails for next week on {scheduled_day}\")\n",
    "    elif weekday < min(go_days):\n",
    "        print(\"Too early\")\n",
    "        scheduled_time = dt.datetime(year, month, date + 1, random_hour, random_minute) #Since it is Monday then schedule on Tuesday\n",
    "        print(f\"Today is {today_date_str}. Let's schedule emails for tomorrow!\")\n",
    "    else: \n",
    "        pass\n",
    "    \n",
    "    return scheduled_time\n",
    "\n",
    "time = check_ideal_sendtime()\n",
    "time"
   ]
  },
  {
   "cell_type": "code",
   "execution_count": 96,
   "id": "ca5ef587-7969-4ae2-b032-ed5bb08d7ccd",
   "metadata": {},
   "outputs": [
    {
     "name": "stdout",
     "output_type": "stream",
     "text": [
      "3\n",
      "2024-03-07 11:25:59.357724\n"
     ]
    },
    {
     "ename": "UnboundLocalError",
     "evalue": "cannot access local variable 'scheduled_time' where it is not associated with a value",
     "output_type": "error",
     "traceback": [
      "\u001b[0;31m---------------------------------------------------------------------------\u001b[0m",
      "\u001b[0;31mUnboundLocalError\u001b[0m                         Traceback (most recent call last)",
      "Cell \u001b[0;32mIn[96], line 1\u001b[0m\n\u001b[0;32m----> 1\u001b[0m check_ideal_sendtime()\n",
      "Cell \u001b[0;32mIn[95], line 48\u001b[0m, in \u001b[0;36mcheck_ideal_sendtime\u001b[0;34m()\u001b[0m\n\u001b[1;32m     45\u001b[0m     \u001b[38;5;28mprint\u001b[39m(now)\n\u001b[1;32m     46\u001b[0m     \u001b[38;5;28;01mpass\u001b[39;00m\n\u001b[0;32m---> 48\u001b[0m \u001b[38;5;28;01mreturn\u001b[39;00m scheduled_time\n",
      "\u001b[0;31mUnboundLocalError\u001b[0m: cannot access local variable 'scheduled_time' where it is not associated with a value"
     ]
    }
   ],
   "source": [
    "# importing the module\n",
    "import pandas as pd\n",
    "\n",
    "# creating the DataFrame\n",
    "marks_data = pd.DataFrame({'ID': {0: 23, 1: 43, 2: 12,\n",
    "\t\t\t\t\t\t\t\t3: 13, 4: 67, 5: 89,\n",
    "\t\t\t\t\t\t\t\t6: 90, 7: 56, 8: 34},\n",
    "\t\t\t\t\t\t'Name': {0: 'Ram', 1: 'Deep',\n",
    "\t\t\t\t\t\t\t\t\t2: 'Yash', 3: 'Aman',\n",
    "\t\t\t\t\t\t\t\t\t4: 'Arjun', 5: 'Aditya',\n",
    "\t\t\t\t\t\t\t\t\t6: 'Divya', 7: 'Chalsea',\n",
    "\t\t\t\t\t\t\t\t\t8: 'Akash'},\n",
    "\t\t\t\t\t\t'Marks': {0: 89, 1: 97, 2: 45, 3: 78,\n",
    "\t\t\t\t\t\t\t\t\t4: 56, 5: 76, 6: 100, 7: 87,\n",
    "\t\t\t\t\t\t\t\t\t8: 81},\n",
    "\t\t\t\t\t\t'Grade': {0: 'B', 1: 'A', 2: 'F', 3: 'C',\n",
    "\t\t\t\t\t\t\t\t\t4: 'E', 5: 'C', 6: 'A', 7: 'B',\n",
    "\t\t\t\t\t\t\t\t\t8: 'B'}})\n",
    "\n",
    "# determining the name of the file\n",
    "file_name = 'MarksData.xlsx'\n",
    "\n",
    "# creating an ExcelWriter object\n",
    "with pd.ExcelWriter(file_name) as writer:\n",
    "\t# writing to the 'Employee' sheet\n",
    "\tmarks_data.to_excel(writer, sheet_name='Employee', index=False)\n",
    "print('DataFrames are written to Excel File successfully.')\n"
   ]
  },
  {
   "cell_type": "code",
   "execution_count": null,
   "id": "9b4cbc8f-66fd-40ff-bc9b-663416deadcb",
   "metadata": {},
   "outputs": [],
   "source": []
  }
 ],
 "metadata": {
  "kernelspec": {
   "display_name": "Python 3 (ipykernel)",
   "language": "python",
   "name": "python3"
  },
  "language_info": {
   "codemirror_mode": {
    "name": "ipython",
    "version": 3
   },
   "file_extension": ".py",
   "mimetype": "text/x-python",
   "name": "python",
   "nbconvert_exporter": "python",
   "pygments_lexer": "ipython3",
   "version": "3.11.7"
  }
 },
 "nbformat": 4,
 "nbformat_minor": 5
}
