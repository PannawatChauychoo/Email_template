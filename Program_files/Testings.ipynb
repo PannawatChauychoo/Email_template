{
 "cells": [
  {
   "cell_type": "code",
   "execution_count": 4,
   "id": "4d0feb55-a8bc-4e4f-8afd-e02b502e9bc3",
   "metadata": {},
   "outputs": [],
   "source": [
    "import datetime as dt \n",
    "import random\n",
    "import time"
   ]
  },
  {
   "cell_type": "code",
   "execution_count": 5,
   "id": "bc861403-d31e-49f3-a1f7-afb91a8d6cbe",
   "metadata": {},
   "outputs": [
    {
     "name": "stdout",
     "output_type": "stream",
     "text": [
      "Too early\n",
      "Today is Monday. Let's schedule emails for tomorrow!\n"
     ]
    },
    {
     "data": {
      "text/plain": [
       "datetime.datetime(2024, 3, 12, 10, 18)"
      ]
     },
     "execution_count": 5,
     "metadata": {},
     "output_type": "execute_result"
    }
   ],
   "source": [
    "#Tuesday -> Thursday from 8-10am are go time\n",
    "\n",
    "def check_ideal_sendtime(prefer_weekdays = [1,2,3], prefer_hours = [8,9,10]):\n",
    "    \"\"\"\n",
    "    Finding the ideal time to send based on current time\n",
    "    \"\"\"\n",
    "    now = dt.datetime.now() #example: datetime.datetime(2024, 3, 6, 20, 56, 59, 727333)\n",
    "    go_days = prefer_weekdays\n",
    "    go_hours = [8,9,10]\n",
    "\n",
    "    year = now.year\n",
    "    weekday = now.weekday() #int (0-6) -> 0 = Monday, 6 = Sunday\n",
    "    hour = now.hour \n",
    "    date = now.day\n",
    "    month = now.month\n",
    "\n",
    "    random_hour = random.randint(8,10)\n",
    "    random_minute = random.randint(0, 59)\n",
    "\n",
    "    today_date_str = now.strftime(\"%A\") #weekday str\n",
    "    \n",
    "    if weekday in go_days:\n",
    "        print(\"yes\")\n",
    "        if hour in go_hours:\n",
    "            print(f\"Today is {today_date_str} and in prime_time! Let's send them!\")\n",
    "            scheduled_time = now\n",
    "        elif hour not in go_hours and weekday < max(go_days):\n",
    "            print(f\"Today is {today_date_str} but not in primetime! Let's send them tomorrow!\")\n",
    "            scheduled_time = dt.datetime(year, month, date + 1, random_hour, random_minute)\n",
    "        elif hour not in go_hours and weekday >= max(go_days):\n",
    "            wait_time = 6 - weekday + min(go_days) # Count the days to next Tuesday\n",
    "            scheduled_time = dt.datetime(year, month, date + wait_time, random_hour, random_minute)\n",
    "            scheduled_day = scheduled_time.strftime(\"%A\")\n",
    "            print(f\"Today is {today_date_str} but we missed the ideal time. Let's schedule emails for next week on {scheduled_day}\")        \n",
    "    elif weekday > max(go_days):\n",
    "        print(\"Too late\")\n",
    "        wait_time = 6 - weekday + min(go_days) # Count the days to next Tuesday\n",
    "        scheduled_time = dt.datetime(year, month, date + wait_time, random_hour, random_minute)\n",
    "        scheduled_day = scheduled_time.strftime(\"%A\")\n",
    "        print(f\"Today is {today_date_str}. Let's schedule emails for next week on {scheduled_day}\")\n",
    "    elif weekday < min(go_days):\n",
    "        print(\"Too early\")\n",
    "        scheduled_time = dt.datetime(year, month, date + 1, random_hour, random_minute) #Since it is Monday then schedule on Tuesday\n",
    "        print(f\"Today is {today_date_str}. Let's schedule emails for tomorrow!\")\n",
    "    else: \n",
    "        pass\n",
    "    \n",
    "    return scheduled_time\n",
    "\n",
    "time = check_ideal_sendtime()\n",
    "time"
   ]
  },
  {
   "cell_type": "code",
   "execution_count": 11,
   "id": "ca5ef587-7969-4ae2-b032-ed5bb08d7ccd",
   "metadata": {},
   "outputs": [
    {
     "name": "stdout",
     "output_type": "stream",
     "text": [
      "<Worksheet \"Targets\">\n",
      "4\n"
     ]
    }
   ],
   "source": [
    "# importing the module\n",
    "import pandas as pd\n",
    "from openpyxl import Workbook, load_workbook\n",
    "from openpyxl.utils import get_column_letter\n",
    "from openpyxl.styles import PatternFill, Font\n",
    "\n",
    "# creating the DataFrame\n",
    "target = pd.read_excel('../Data/Contact_tracking.xlsx', sheet_name= \"Targets\")\n",
    "\n",
    "# determining the name of the file\n",
    "wb = load_workbook('../Data/Contact_tracking.xlsx')\n",
    "\n",
    "# my_fill = PatternFill(start_color='0000FF00',\n",
    "#                    end_color='0000FF00',\n",
    "#                    fill_type='solid')\n",
    "#print(wb.sheetnames)\n",
    "\n",
    "target_sheet = wb.active\n",
    "print(target_sheet)\n",
    "\n",
    "#Reading column\n",
    "# for cell in target_sheet[\"A\"]:\n",
    "#     print(cell.value)\n",
    "\n",
    "print(len(target_sheet['I']) - 1)\n",
    "\n",
    "time_now = dt.datetime.now()\n",
    "column_to_write = target_sheet['I']\n",
    "#Writing row - Iterate over the cells in the column and assign values\n",
    "for i in range(1, len(target_sheet['I']) - 1):\n",
    "    target_sheet.cell(row=i, column=1, value=1)\n",
    "\n",
    "\n",
    "    \n",
    "# wb.save('../Data/Contact_tracking.xlsx')\n",
    "# wb.close()"
   ]
  },
  {
   "cell_type": "code",
   "execution_count": 12,
   "id": "a4067257-53a4-4f4f-91ba-9c36c7a7c9b6",
   "metadata": {},
   "outputs": [
    {
     "data": {
      "text/html": [
       "<div>\n",
       "<style scoped>\n",
       "    .dataframe tbody tr th:only-of-type {\n",
       "        vertical-align: middle;\n",
       "    }\n",
       "\n",
       "    .dataframe tbody tr th {\n",
       "        vertical-align: top;\n",
       "    }\n",
       "\n",
       "    .dataframe thead th {\n",
       "        text-align: right;\n",
       "    }\n",
       "</style>\n",
       "<table border=\"1\" class=\"dataframe\">\n",
       "  <thead>\n",
       "    <tr style=\"text-align: right;\">\n",
       "      <th></th>\n",
       "      <th>Name</th>\n",
       "      <th>Company</th>\n",
       "      <th>Group</th>\n",
       "      <th>Location</th>\n",
       "      <th>Personalization_Line (common interest)</th>\n",
       "      <th>Follow_up_count</th>\n",
       "    </tr>\n",
       "  </thead>\n",
       "  <tbody>\n",
       "    <tr>\n",
       "      <th>0</th>\n",
       "      <td>John Wang</td>\n",
       "      <td>Dell</td>\n",
       "      <td>Consulting</td>\n",
       "      <td>SF</td>\n",
       "      <td>Chess</td>\n",
       "      <td>0</td>\n",
       "    </tr>\n",
       "    <tr>\n",
       "      <th>1</th>\n",
       "      <td>John Wang</td>\n",
       "      <td>Dell</td>\n",
       "      <td>Consulting</td>\n",
       "      <td>SF</td>\n",
       "      <td>Consulting</td>\n",
       "      <td>1</td>\n",
       "    </tr>\n",
       "    <tr>\n",
       "      <th>2</th>\n",
       "      <td>John Wang</td>\n",
       "      <td>Dell</td>\n",
       "      <td>Consulting</td>\n",
       "      <td>SF</td>\n",
       "      <td>Art</td>\n",
       "      <td>2</td>\n",
       "    </tr>\n",
       "  </tbody>\n",
       "</table>\n",
       "</div>"
      ],
      "text/plain": [
       "        Name  Company       Group Location  \\\n",
       "0  John Wang     Dell  Consulting       SF   \n",
       "1  John Wang     Dell  Consulting       SF   \n",
       "2  John Wang     Dell  Consulting       SF   \n",
       "\n",
       "   Personalization_Line (common interest)  Follow_up_count  \n",
       "0                                   Chess                0  \n",
       "1                              Consulting                1  \n",
       "2                                     Art                2  "
      ]
     },
     "execution_count": 12,
     "metadata": {},
     "output_type": "execute_result"
    }
   ],
   "source": [
    "import pandas as pd\n",
    "from openpyxl import Workbook, load_workbook\n",
    "from openpyxl.utils import get_column_letter\n",
    "from openpyxl.styles import PatternFill, Font\n",
    "target = pd.read_excel('../Data/Contact_tracking.xlsx', sheet_name= \"Targets\")\n",
    "target.iloc[:, 1:7]"
   ]
  },
  {
   "cell_type": "code",
   "execution_count": 19,
   "id": "fe68bb05-dc5f-40e2-b552-976bba4b66d7",
   "metadata": {},
   "outputs": [],
   "source": [
    "import pandas as pd\n",
    "from openpyxl import Workbook, load_workbook\n",
    "from openpyxl.utils import get_column_letter\n",
    "from openpyxl.styles import PatternFill, Font\n",
    "\n",
    "target = pd.read_excel('../Data/Contact_tracking.xlsx', sheet_name= \"Targets\")\n",
    "target.iloc[:, 1:7]\n",
    "follow_up_count = target.iloc[:, 6]\n",
    "\n",
    "def record_followup_time(row, follow_up_count, scheduled_time, excel_name = '../Data/Contact_tracking.xlsx'):\n",
    "    \"\"\"\n",
    "    Input: row, follow_up_count, scheduled_time, excel_filename (default = Contact_tracking)\n",
    "    Insert the time when the email is being sent out under the right follow up count\n",
    "    Output: saved excel notebook with updated cells\n",
    "    \"\"\"\n",
    "    wb = load_workbook(excel_name)\n",
    "    target_sheet = wb.active\n",
    "\n",
    "    count_dict = {0: 'I', 1:'J', 2:'K', 3:'L'}\n",
    "    time_column = count_dict[follow_up_count] #Picking the right column based on follow_up_count\n",
    "    row = row + 1\n",
    "    cell = str(time_column) + str(row)\n",
    "\n",
    "    #Inputting the current time into the right follow up count \n",
    "    target_sheet[cell].value = scheduled_time\n",
    "\n",
    "    #update the follow up count (only if less than 3)\n",
    "    followup_cell = 'G' + str(row)\n",
    "    if follow_up_count < 3:\n",
    "        target_sheet[followup_cell].value = follow_up_count + 1 \n",
    "    else:\n",
    "        pass\n",
    "        \n",
    "    wb.save(excel_name)\n",
    "    \n",
    "record_followup_time(2, 3, \"Thursday 9th March\")"
   ]
  },
  {
   "cell_type": "code",
   "execution_count": null,
   "id": "9af689cb-a08a-471c-868a-824f58513c6e",
   "metadata": {},
   "outputs": [],
   "source": []
  }
 ],
 "metadata": {
  "kernelspec": {
   "display_name": "Python 3 (ipykernel)",
   "language": "python",
   "name": "python3"
  },
  "language_info": {
   "codemirror_mode": {
    "name": "ipython",
    "version": 3
   },
   "file_extension": ".py",
   "mimetype": "text/x-python",
   "name": "python",
   "nbconvert_exporter": "python",
   "pygments_lexer": "ipython3",
   "version": "3.11.7"
  }
 },
 "nbformat": 4,
 "nbformat_minor": 5
}
